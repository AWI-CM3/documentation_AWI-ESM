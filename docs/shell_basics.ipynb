{
 "cells": [
  {
   "cell_type": "markdown",
   "id": "f1645e10-b9cc-4df6-bb37-61da5f66208b",
   "metadata": {},
   "source": [
    "# Shell Basics\n",
    "(tutorials-shell-basics)=\n",
    "\n",
    "```{article-info}\n",
    ":avatar: https://secure.gravatar.com/avatar/709ea66dc102e6bc4547032f85ff6c95 \n",
    ":avatar-link: mailto:paul.gierz@awi.de \n",
    ":avatar-outline: muted\n",
    ":author: Paul Gierz \n",
    ":date: December 2022\n",
    ":read-time: \"1 to 2 hour read and hands-on\"\n",
    ":class-container: sd-p-2 sd-outline-muted sd-rounded-1\n",
    "```\n",
    "\n",
    "> **Summary** You will learn the basics of shell navigation, creating folders and files, deleting folders and files, renaming files, file permissions, and shell variables. "
   ]
  },
  {
   "cell_type": "markdown",
   "id": "fbbccce5-c5be-4237-b156-099af3f7c52d",
   "metadata": {},
   "source": [
    "This tutorial is intended for you if you've never come into contact with the command line before and need a small introduction to help you start off and get to work. \n",
    "\n",
    "If you've never worked with the command line before, it can seem a little bit intimidating at first, especially if you are used to interacting with a computer through a graphical interface. However, I hope that through this tutorial and the next one, you'll learn that you can accomplish many of the same tasks you would through graphically much faster through a terminal. You'll also learn how to automate repeatable tasks, and how to use small, basic Linux programs to build more complex scripts to solve more sophisticated problems. \n",
    "\n",
    "This tutorial is meant to be run interactively, so make sure you launch the interactive version. To do that, click on the little rocket, and select Binder (*not* JupyterHub). You can alternatively also follow along with a regular terminal, yet you will not have access to all the same data."
   ]
  },
  {
   "cell_type": "markdown",
   "id": "f15ec672-6658-4bb2-aee2-68ddedff084b",
   "metadata": {},
   "source": [
    "- - - -\n",
    "**SCREENSHOT WILL GO HERE**\n",
    "- - - -"
   ]
  },
  {
   "cell_type": "markdown",
   "id": "eca3bc01-be76-416b-ba93-3f5309ad44ab",
   "metadata": {},
   "source": [
    "```{tableofcontents}\n",
    "```"
   ]
  },
  {
   "cell_type": "markdown",
   "id": "ac2553d2-5cf9-4045-be2b-26f58d713e12",
   "metadata": {},
   "source": [
    "## Terminology and Basic Commands\n",
    "\n",
    "We will start introducing some terminology directly along with the first few commands you should know. To begin, let's examine where we actually input commands. This is called the **command prompt**, or the **REPL** (Read-Evaluate-Print Loop).\n",
    "\n",
    "Command Prompt\n",
    ": The element of a command line program which accepts keyboard input to run commands. There are several common abbrevations used:\n",
    "`````{tab-set}\n",
    "````{tab-item} Shell\n",
    "```console\n",
    "$ <some_command>\n",
    "```\n",
    "````\n",
    "````{tab-item} Python\n",
    "```python\n",
    ">>> <some_command>\n",
    "```\n",
    "````\n",
    "````{tab-item} R\n",
    "```r\n",
    "> <some_command>\n",
    "```\n",
    "````\n",
    "````{tab-item} Jupyter\n",
    "```r\n",
    "[ ]: <some_command>\n",
    "```\n",
    "````\n",
    "`````\n",
    "\n",
    "In this tuorial, we will only focus on **shell** commands. "
   ]
  },
  {
   "cell_type": "markdown",
   "id": "53141ea1-847a-4bf3-87f5-6720786645d5",
   "metadata": {},
   "source": [
    "If you are using the Jupyter environment, you can run any of these next commands with <kbd>Shift</kbd> + <kbd>Enter</kbd>. If you are using a regular terminal, just enter the command and hit <kbd>Enter</kbd> "
   ]
  },
  {
   "cell_type": "code",
   "execution_count": 2,
   "id": "1f3136e2-a554-4c1a-b7c6-0226edd75e38",
   "metadata": {},
   "outputs": [
    {
     "name": "stdout",
     "output_type": "stream",
     "text": [
      "/Users/pgierz/Code/github.com/AWIESM/docs/docs\n"
     ]
    }
   ],
   "source": [
    "pwd"
   ]
  },
  {
   "cell_type": "markdown",
   "id": "8bc36ccd-b59f-4ca7-9d86-e97e4c3900c7",
   "metadata": {},
   "source": [
    "The first command is `pwd`, for \"print working directory\". It takes no arguments or flags, and prints out where we currently are in the system. Let's find out what is here:"
   ]
  },
  {
   "cell_type": "code",
   "execution_count": 3,
   "id": "d0898264-43c1-41cf-b28a-de8961e640ca",
   "metadata": {},
   "outputs": [
    {
     "name": "stdout",
     "output_type": "stream",
     "text": [
      "Untitled.ipynb\t\t\t\tintro.md\n",
      "_build\t\t\t\t\tlogo.png\n",
      "_config.yml\t\t\t\tmarkdown-notebooks.md\n",
      "_static\t\t\t\t\tmarkdown.md\n",
      "_toc.yml\t\t\t\tmodule_files.md\n",
      "analysis_tutorials_overview.ipynb\tnotation.md\n",
      "common_runtime_issues\t\t\tnotebooks\n",
      "direnv.md\t\t\t\tnotebooks.ipynb\n",
      "first_pi_awiesm_2p1.md\t\t\torbital_forcing.md\n",
      "general_tutorials_overview.md\t\treferences.bib\n",
      "git_and_version_control.md\t\tshell_basics.ipynb\n",
      "interactive_screenshot.png\t\ttechnical_links_awiesm_2.1.md\n",
      "interactive_screenshot_with_rocket.png\twork\n"
     ]
    }
   ],
   "source": [
    "ls"
   ]
  },
  {
   "cell_type": "markdown",
   "id": "16b78ae2-6118-478f-887a-66968c6f4e7e",
   "metadata": {},
   "source": [
    "The next command is `ls`, for `list`. It displays files and folders. By default, it shows you the files and folders where you currently are. However, you can give it options. Let;s say we want to look at the files iin the folder `_build`."
   ]
  },
  {
   "cell_type": "code",
   "execution_count": 4,
   "id": "1089dac8-6d73-48ad-8636-33f1e57cd0cf",
   "metadata": {},
   "outputs": [
    {
     "name": "stdout",
     "output_type": "stream",
     "text": [
      "html\t\tjupyter_execute\n"
     ]
    }
   ],
   "source": [
    "ls _build"
   ]
  },
  {
   "cell_type": "markdown",
   "id": "3ab54e7e-d943-4d1a-bda6-95d8de11b768",
   "metadata": {},
   "source": [
    "You'll see we gave the `ls` command an **argument** after the command name. **Arguments** may also be refered to as **parameters** or **postional arguments**. For the `ls` command, you can also give more than one:"
   ]
  },
  {
   "cell_type": "code",
   "execution_count": 5,
   "id": "27472269-07a5-42fb-ac4f-120b5ba528bb",
   "metadata": {},
   "outputs": [
    {
     "name": "stdout",
     "output_type": "stream",
     "text": [
      "_build:\n",
      "html\t\tjupyter_execute\n",
      "\n",
      "work:\n",
      "handbook_examples\n"
     ]
    }
   ],
   "source": [
    "ls _build work"
   ]
  },
  {
   "cell_type": "markdown",
   "id": "db23159a-4102-4b2b-811f-92eb34503235",
   "metadata": {},
   "source": [
    "We gave `ls` to arguments this time, both the folder (in Linux terminology, a directory) `_build` and `work`. We get back the contents of each. You can also list files:"
   ]
  },
  {
   "cell_type": "code",
   "execution_count": 6,
   "id": "af5ed96e-caa5-4b5e-bc9c-b78545a05d74",
   "metadata": {},
   "outputs": [
    {
     "name": "stdout",
     "output_type": "stream",
     "text": [
      "intro.md\n",
      "\n",
      "_build:\n",
      "html\t\tjupyter_execute\n"
     ]
    }
   ],
   "source": [
    "ls _build intro.md"
   ]
  },
  {
   "cell_type": "markdown",
   "id": "0c849258-30fd-489b-a990-f0b913a18aec",
   "metadata": {},
   "source": [
    "In addition to **arguments**, programs can also have **flags**. `ls` has several useful ones. Let's try a few:\n",
    "\n",
    "The `-a` flag displays *all* files, even hidden ones. Hidden files normally start with a `.`"
   ]
  },
  {
   "cell_type": "code",
   "execution_count": 7,
   "id": "9e43aa8b-dfd1-43ca-93e1-72c15322d0d8",
   "metadata": {},
   "outputs": [
    {
     "name": "stdout",
     "output_type": "stream",
     "text": [
      ".\t\t\t\t\tinteractive_screenshot_with_rocket.png\n",
      "..\t\t\t\t\tintro.md\n",
      ".ipynb_checkpoints\t\t\tlogo.png\n",
      "Untitled.ipynb\t\t\t\tmarkdown-notebooks.md\n",
      "_build\t\t\t\t\tmarkdown.md\n",
      "_config.yml\t\t\t\tmodule_files.md\n",
      "_static\t\t\t\t\tnotation.md\n",
      "_toc.yml\t\t\t\tnotebooks\n",
      "analysis_tutorials_overview.ipynb\tnotebooks.ipynb\n",
      "common_runtime_issues\t\t\torbital_forcing.md\n",
      "direnv.md\t\t\t\treferences.bib\n",
      "first_pi_awiesm_2p1.md\t\t\tshell_basics.ipynb\n",
      "general_tutorials_overview.md\t\ttechnical_links_awiesm_2.1.md\n",
      "git_and_version_control.md\t\twork\n",
      "interactive_screenshot.png\n"
     ]
    }
   ],
   "source": [
    "ls -a"
   ]
  },
  {
   "cell_type": "markdown",
   "id": "a13c4c44-393f-4478-823e-3791ecaeb307",
   "metadata": {},
   "source": [
    "The `-l` flag gives a long listing, with some more information. Information presented here are the permission scheme (more on that later), the owner, the group, the filesize, the last modification date, and finally the file name:"
   ]
  },
  {
   "cell_type": "code",
   "execution_count": 8,
   "id": "023bdc98-63ac-48a0-a1dd-af86a7279533",
   "metadata": {},
   "outputs": [
    {
     "name": "stdout",
     "output_type": "stream",
     "text": [
      "total 1312\n",
      "-rw-r--r--  1 pgierz  355342394      72 Dec 27 19:46 Untitled.ipynb\n",
      "drwxr-xr-x  5 pgierz  355342394     160 Dec 30 11:18 _build\n",
      "-rw-r--r--  1 pgierz  355342394    1699 Dec 30 11:09 _config.yml\n",
      "drwxr-xr-x  4 pgierz  355342394     128 Dec 27 19:28 _static\n",
      "-rw-r--r--  1 pgierz  355342394    1543 Dec 29 11:38 _toc.yml\n",
      "-rw-r--r--  1 pgierz  355342394   34280 Dec 29 11:41 analysis_tutorials_overview.ipynb\n",
      "drwxr-xr-x  4 pgierz  355342394     128 Dec 29 11:29 common_runtime_issues\n",
      "-rw-r--r--  1 pgierz  355342394    9908 Dec 27 19:28 direnv.md\n",
      "-rw-r--r--  1 pgierz  355342394   15372 Dec 27 19:28 first_pi_awiesm_2p1.md\n",
      "-rw-r--r--  1 pgierz  355342394     150 Dec 27 19:28 general_tutorials_overview.md\n",
      "-rw-r--r--  1 pgierz  355342394      27 Dec 27 19:28 git_and_version_control.md\n",
      "-rw-r--r--  1 pgierz  355342394  209593 Dec 27 19:28 interactive_screenshot.png\n",
      "-rw-r--r--  1 pgierz  355342394  232430 Dec 27 19:28 interactive_screenshot_with_rocket.png\n",
      "-rw-r--r--  1 pgierz  355342394      73 Dec 27 19:28 intro.md\n",
      "-rw-r--r--  1 pgierz  355342394   62825 Dec 27 19:28 logo.png\n",
      "-rw-r--r--  1 pgierz  355342394    1816 Dec 27 19:28 markdown-notebooks.md\n",
      "-rw-r--r--  1 pgierz  355342394    1898 Dec 27 19:28 markdown.md\n",
      "-rw-r--r--  1 pgierz  355342394      15 Dec 27 19:28 module_files.md\n",
      "-rw-r--r--  1 pgierz  355342394    1577 Dec 27 19:28 notation.md\n",
      "drwxr-xr-x  3 pgierz  355342394      96 Dec 27 19:28 notebooks\n",
      "-rw-r--r--  1 pgierz  355342394    3378 Dec 27 19:28 notebooks.ipynb\n",
      "-rw-r--r--  1 pgierz  355342394    2213 Dec 27 19:28 orbital_forcing.md\n",
      "-rw-r--r--  1 pgierz  355342394    5524 Dec 27 19:28 references.bib\n",
      "-rw-r--r--  1 pgierz  355342394   29045 Dec 30 11:40 shell_basics.ipynb\n",
      "-rw-r--r--  1 pgierz  355342394     146 Dec 27 19:28 technical_links_awiesm_2.1.md\n",
      "drwxr-xr-x  3 pgierz  355342394      96 Dec 27 20:52 work\n"
     ]
    }
   ],
   "source": [
    "ls -l"
   ]
  },
  {
   "cell_type": "markdown",
   "id": "b4f0cf9d-7517-4da9-a8c6-483389fc74ab",
   "metadata": {},
   "source": [
    "The `-r` flag reverses the order of the list. Note also in this example that you can have multiple flags at once:"
   ]
  },
  {
   "cell_type": "code",
   "execution_count": 9,
   "id": "1e470409-42a4-4c82-ac43-8da3566c3bae",
   "metadata": {},
   "outputs": [
    {
     "name": "stdout",
     "output_type": "stream",
     "text": [
      "total 1312\n",
      "drwxr-xr-x  3 pgierz  355342394      96 Dec 27 20:52 work\n",
      "-rw-r--r--  1 pgierz  355342394     146 Dec 27 19:28 technical_links_awiesm_2.1.md\n",
      "-rw-r--r--  1 pgierz  355342394   29045 Dec 30 11:40 shell_basics.ipynb\n",
      "-rw-r--r--  1 pgierz  355342394    5524 Dec 27 19:28 references.bib\n",
      "-rw-r--r--  1 pgierz  355342394    2213 Dec 27 19:28 orbital_forcing.md\n",
      "-rw-r--r--  1 pgierz  355342394    3378 Dec 27 19:28 notebooks.ipynb\n",
      "drwxr-xr-x  3 pgierz  355342394      96 Dec 27 19:28 notebooks\n",
      "-rw-r--r--  1 pgierz  355342394    1577 Dec 27 19:28 notation.md\n",
      "-rw-r--r--  1 pgierz  355342394      15 Dec 27 19:28 module_files.md\n",
      "-rw-r--r--  1 pgierz  355342394    1898 Dec 27 19:28 markdown.md\n",
      "-rw-r--r--  1 pgierz  355342394    1816 Dec 27 19:28 markdown-notebooks.md\n",
      "-rw-r--r--  1 pgierz  355342394   62825 Dec 27 19:28 logo.png\n",
      "-rw-r--r--  1 pgierz  355342394      73 Dec 27 19:28 intro.md\n",
      "-rw-r--r--  1 pgierz  355342394  232430 Dec 27 19:28 interactive_screenshot_with_rocket.png\n",
      "-rw-r--r--  1 pgierz  355342394  209593 Dec 27 19:28 interactive_screenshot.png\n",
      "-rw-r--r--  1 pgierz  355342394      27 Dec 27 19:28 git_and_version_control.md\n",
      "-rw-r--r--  1 pgierz  355342394     150 Dec 27 19:28 general_tutorials_overview.md\n",
      "-rw-r--r--  1 pgierz  355342394   15372 Dec 27 19:28 first_pi_awiesm_2p1.md\n",
      "-rw-r--r--  1 pgierz  355342394    9908 Dec 27 19:28 direnv.md\n",
      "drwxr-xr-x  4 pgierz  355342394     128 Dec 29 11:29 common_runtime_issues\n",
      "-rw-r--r--  1 pgierz  355342394   34280 Dec 29 11:41 analysis_tutorials_overview.ipynb\n",
      "-rw-r--r--  1 pgierz  355342394    1543 Dec 29 11:38 _toc.yml\n",
      "drwxr-xr-x  4 pgierz  355342394     128 Dec 27 19:28 _static\n",
      "-rw-r--r--  1 pgierz  355342394    1699 Dec 30 11:09 _config.yml\n",
      "drwxr-xr-x  5 pgierz  355342394     160 Dec 30 11:18 _build\n",
      "-rw-r--r--  1 pgierz  355342394      72 Dec 27 19:46 Untitled.ipynb\n"
     ]
    }
   ],
   "source": [
    "ls -rl"
   ]
  },
  {
   "cell_type": "code",
   "execution_count": 10,
   "id": "888e463d-981f-435b-934c-d5338a1a6084",
   "metadata": {},
   "outputs": [
    {
     "name": "stdout",
     "output_type": "stream",
     "text": [
      "Untitled.ipynb\t\t\t\tintro.md\n",
      "_build\t\t\t\t\tlogo.png\n",
      "_config.yml\t\t\t\tmarkdown-notebooks.md\n",
      "_static\t\t\t\t\tmarkdown.md\n",
      "_toc.yml\t\t\t\tmodule_files.md\n",
      "analysis_tutorials_overview.ipynb\tnotation.md\n",
      "common_runtime_issues\t\t\tnotebooks\n",
      "direnv.md\t\t\t\tnotebooks.ipynb\n",
      "first_pi_awiesm_2p1.md\t\t\torbital_forcing.md\n",
      "general_tutorials_overview.md\t\treferences.bib\n",
      "git_and_version_control.md\t\tshell_basics.ipynb\n",
      "interactive_screenshot.png\t\ttechnical_links_awiesm_2.1.md\n",
      "interactive_screenshot_with_rocket.png\twork\n"
     ]
    }
   ],
   "source": [
    "ls"
   ]
  },
  {
   "cell_type": "markdown",
   "id": "f4df95ae-95f8-4c96-bac7-72eb1592504c",
   "metadata": {},
   "source": [
    "The standard example, above, sorts the file names alphabetically, witih Captial letters in a different sorting than lowercase. You can also sort by access time with the flag `-t`, shown below:"
   ]
  },
  {
   "cell_type": "code",
   "execution_count": 11,
   "id": "2c975db6-b13d-4234-88c2-3de493a263f2",
   "metadata": {},
   "outputs": [
    {
     "name": "stdout",
     "output_type": "stream",
     "text": [
      "shell_basics.ipynb\t\t\tnotation.md\n",
      "_build\t\t\t\t\tmodule_files.md\n",
      "_config.yml\t\t\t\tmarkdown.md\n",
      "analysis_tutorials_overview.ipynb\tmarkdown-notebooks.md\n",
      "_toc.yml\t\t\t\tlogo.png\n",
      "common_runtime_issues\t\t\tintro.md\n",
      "work\t\t\t\t\tinteractive_screenshot_with_rocket.png\n",
      "Untitled.ipynb\t\t\t\tinteractive_screenshot.png\n",
      "technical_links_awiesm_2.1.md\t\tgit_and_version_control.md\n",
      "references.bib\t\t\t\tgeneral_tutorials_overview.md\n",
      "orbital_forcing.md\t\t\tfirst_pi_awiesm_2p1.md\n",
      "notebooks\t\t\t\tdirenv.md\n",
      "notebooks.ipynb\t\t\t\t_static\n"
     ]
    }
   ],
   "source": [
    "ls -t"
   ]
  },
  {
   "cell_type": "markdown",
   "id": "0c4e9d73-4779-458d-bdb3-2d3ccba20132",
   "metadata": {},
   "source": [
    "So, to summarize if we generalize the notation and the commands we have learned so far:\n",
    "\n",
    "Shell Command\n",
    ": A simple command that may take flags and/or arguments. Notation can be like this:\n",
    "```console\n",
    "$ <command> [-flag_a] [-flag_b] [argument_a] [argument_b]\n",
    "```\n",
    "\n",
    "`pwd`\n",
    ": Shell command to print the current working directory.\n",
    "\n",
    "`ls`\n",
    ": lists files and folders. Can take arguments for displaying particular files or folders. Common flags are `-a`: all, `-l`: long, `-r`: reverse order, `-t`: sort by time."
   ]
  },
  {
   "cell_type": "markdown",
   "id": "0d59c4cf-f5f2-433b-858f-d5ab0a762777",
   "metadata": {},
   "source": [
    "## Navigation: Changing Directories"
   ]
  },
  {
   "cell_type": "markdown",
   "id": "c45ae5e8-2df9-4c4a-9691-4d25f5e304e4",
   "metadata": {},
   "source": [
    "Now that we know where we are and what is here, we can learn to move around. Let's start by going to the main folder. To do that, we use the `change directory` command, `cd`. Without any arguments, it takes us back to our home folder, often denoted `$HOME`, `${HOME}`, or `~`."
   ]
  },
  {
   "cell_type": "code",
   "execution_count": 21,
   "id": "a3b87d29-a0de-4984-a4a3-aa5f2c66ef28",
   "metadata": {},
   "outputs": [],
   "source": [
    "cd"
   ]
  },
  {
   "cell_type": "code",
   "execution_count": 22,
   "id": "fc560f0d-6039-4a2f-957f-4d7f83cd5f82",
   "metadata": {},
   "outputs": [
    {
     "name": "stdout",
     "output_type": "stream",
     "text": [
      "/Users/pgierz\n"
     ]
    }
   ],
   "source": [
    "pwd"
   ]
  },
  {
   "cell_type": "code",
   "execution_count": 23,
   "id": "6cc34528-eaa5-4cdd-9b4e-8dc5865a81f6",
   "metadata": {},
   "outputs": [
    {
     "name": "stdout",
     "output_type": "stream",
     "text": [
      "Applications\t\tMovies\t\t\tUntitled.ipynb\n",
      "Cleanup\t\t\tMusic\t\t\tUntitled1.ipynb\n",
      "Code\t\t\tOneDrive\t\tVirtualBox VMs\n",
      "Desktop\t\t\tPictures\t\tgithub_token.txt\n",
      "Documents\t\tPublic\t\t\tpygments\n",
      "Downloads\t\tResearch\t\tvpn.sh.md\n",
      "From_Desktop\t\tSciComp\t\t\twork\n",
      "Library\t\t\tTeaching\n"
     ]
    }
   ],
   "source": [
    "ls"
   ]
  },
  {
   "cell_type": "markdown",
   "id": "6692e45b-438a-4686-b0fb-80df0b2259a0",
   "metadata": {},
   "source": [
    "So, you'll notice that the print working directory (`pwd`) command now tells us that we are in the home folder, and `ls` prints out the contents of my `$HOME`. If we give arguments to `cd`, we can go somewhere specific. Let's go to the folder for this book:"
   ]
  },
  {
   "cell_type": "code",
   "execution_count": 24,
   "id": "22f47730-982b-428c-94a2-91367d2a1021",
   "metadata": {},
   "outputs": [
    {
     "name": "stdout",
     "output_type": "stream",
     "text": [
      "/Users/pgierz/Code/github.com/AWIESM/docs\n",
      "LICENSE\t\tREADME.rst\tdocs\t\tenvironment.yml\n"
     ]
    }
   ],
   "source": [
    "cd Code/github.com/AWIESM/docs\n",
    "ls"
   ]
  },
  {
   "cell_type": "markdown",
   "id": "d4365678-ca1e-4827-b7bd-389afa2a8218",
   "metadata": {},
   "source": [
    "There are a couple of special arguments you should know about for the cd command. Above, we gave `cd` an argument of a **relative filepath** which started from where we were before, and gave a sequence of folders to go to in order to get to a new location. This **filepath** has a few parts that you should know about.\n",
    "\n",
    "First, the filepath `.` always points to where you currently are. So, in the above example, these would all be equivalent:\n",
    "```console\n",
    "$ cd Code/github.com/AWIESM/docs\n",
    "$ cd Code/github.com/AWIESM/docs/.\n",
    "$ cd Code/github.com/./AWIESM/docs/./\n",
    "```\n",
    "The other important filepath is `..`, which denotes the parent directory. You may here this refered to as \"going up one\" or \"going up the tree\". You can chain these together to go up multiple levels: \n",
    "\n",
    "```console\n",
    "$ cd ../../../\n",
    "```\n",
    "\n",
    "Let's see this in practice:"
   ]
  },
  {
   "cell_type": "code",
   "execution_count": 18,
   "id": "28e2cf9c-f069-4c49-ad9b-29d5e2040db4",
   "metadata": {},
   "outputs": [],
   "source": [
    "cd ../../../../"
   ]
  },
  {
   "cell_type": "code",
   "execution_count": 19,
   "id": "6e558375-bb6c-4b55-af4f-bac7419332d0",
   "metadata": {},
   "outputs": [
    {
     "name": "stdout",
     "output_type": "stream",
     "text": [
      "/Users/pgierz\n"
     ]
    }
   ],
   "source": [
    "pwd"
   ]
  },
  {
   "cell_type": "code",
   "execution_count": 20,
   "id": "3691fc4c-8927-4fcd-8eaa-e02450a52e04",
   "metadata": {},
   "outputs": [
    {
     "name": "stdout",
     "output_type": "stream",
     "text": [
      "Applications\t\tMovies\t\t\tUntitled.ipynb\n",
      "Cleanup\t\t\tMusic\t\t\tUntitled1.ipynb\n",
      "Code\t\t\tOneDrive\t\tVirtualBox VMs\n",
      "Desktop\t\t\tPictures\t\tgithub_token.txt\n",
      "Documents\t\tPublic\t\t\tpygments\n",
      "Downloads\t\tResearch\t\tvpn.sh.md\n",
      "From_Desktop\t\tSciComp\t\t\twork\n",
      "Library\t\t\tTeaching\n"
     ]
    }
   ],
   "source": [
    "ls"
   ]
  },
  {
   "cell_type": "markdown",
   "id": "07bfc663-6497-4f69-a209-93df1956f06f",
   "metadata": {},
   "source": [
    "Above, we went back up four levels, to get back the our home folder and printed out the contents with `ls`.\n",
    "\n",
    "In addition to **relative paths**, we can also give absolute locations, always starting at `/`. We could give the location of our tutorial document like so:"
   ]
  },
  {
   "cell_type": "code",
   "execution_count": 28,
   "id": "5f2b7e19-15ce-40f1-9e03-f6037a38c64d",
   "metadata": {},
   "outputs": [
    {
     "name": "stdout",
     "output_type": "stream",
     "text": [
      "LICENSE\t\tREADME.rst\tdocs\t\tenvironment.yml\n"
     ]
    }
   ],
   "source": [
    "ls /Users/pgierz/Code/github.com/AWIESM/docs"
   ]
  },
  {
   "cell_type": "markdown",
   "id": "85853cc9-f5db-4dce-b836-4edc937ebcc4",
   "metadata": {},
   "source": [
    "For the `$HOME` folder, there is also a shortcut, namely `~`:"
   ]
  },
  {
   "cell_type": "code",
   "execution_count": 30,
   "id": "413cc519-3c58-4315-ab9f-82ee9999476e",
   "metadata": {},
   "outputs": [],
   "source": [
    "cd ~/Code/github.com/AWIESM/docs"
   ]
  },
  {
   "cell_type": "code",
   "execution_count": 31,
   "id": "fd4c9b91-3df9-42d0-87bb-e4d41b694482",
   "metadata": {},
   "outputs": [
    {
     "name": "stdout",
     "output_type": "stream",
     "text": [
      "LICENSE\t\tREADME.rst\tdocs\t\tenvironment.yml\n"
     ]
    }
   ],
   "source": [
    "ls"
   ]
  },
  {
   "cell_type": "markdown",
   "id": "04bd6453-ee5e-471b-9c34-085d3d6e0880",
   "metadata": {},
   "source": [
    "Finally, there is the special argument for cd `-` which goes to the back to the previous location. This is best shown as a demonstration:"
   ]
  },
  {
   "cell_type": "code",
   "execution_count": 32,
   "id": "cea5eece-d800-471c-a3fe-acb44248ce8b",
   "metadata": {},
   "outputs": [
    {
     "name": "stdout",
     "output_type": "stream",
     "text": [
      "/Users/pgierz/Code/github.com/AWIESM/docs\n"
     ]
    }
   ],
   "source": [
    "pwd"
   ]
  },
  {
   "cell_type": "code",
   "execution_count": 34,
   "id": "ec1ae3e9-a573-4d1b-a742-ede31fe27376",
   "metadata": {},
   "outputs": [],
   "source": [
    "cd"
   ]
  },
  {
   "cell_type": "code",
   "execution_count": 35,
   "id": "d6dbd774-1b6a-48b1-9b22-e8cef2e02409",
   "metadata": {},
   "outputs": [
    {
     "name": "stdout",
     "output_type": "stream",
     "text": [
      "/Users/pgierz\n"
     ]
    }
   ],
   "source": [
    "pwd"
   ]
  },
  {
   "cell_type": "code",
   "execution_count": 36,
   "id": "80f085e5-b39d-4bfb-b431-122d31745034",
   "metadata": {},
   "outputs": [
    {
     "name": "stdout",
     "output_type": "stream",
     "text": [
      "/Users/pgierz/Code/github.com/AWIESM/docs\n"
     ]
    }
   ],
   "source": [
    "cd -"
   ]
  },
  {
   "cell_type": "code",
   "execution_count": 37,
   "id": "01f0d7d7-5d3e-4eb6-888e-4aafdb7866a4",
   "metadata": {},
   "outputs": [
    {
     "name": "stdout",
     "output_type": "stream",
     "text": [
      "/Users/pgierz/Code/github.com/AWIESM/docs\n"
     ]
    }
   ],
   "source": [
    "pwd"
   ]
  },
  {
   "cell_type": "markdown",
   "id": "ceda4904-4018-4f70-a244-68686617e2b2",
   "metadata": {},
   "source": [
    "We begin in our tutorial folder, go to the home folder, and then go back to the tutorial folder again with the special `cd -` command.\n",
    "\n",
    "To summarize, in this section we learned:\n",
    "\n",
    "Absolute and Relative Paths\n",
    ": Absolute paths always start at the root of the computer, namely the `/` directory. Relative paths specify a location based upon where you currently are.\n",
    "\n",
    "`..` and `.` Paths\n",
    ": The `..` path denotes the location directly above the current one, and the `.` denotes the current directory.\n",
    "\n",
    "`~`\n",
    ": The location `~/` is a shortcut for your own home folder. You can also use `~bob` to get to the home folder of another user (in this case `bob`).\n",
    "\n",
    "`cd -`\n",
    ": The special command `cd -` goes back to the directory you were in previously."
   ]
  },
  {
   "cell_type": "markdown",
   "id": "37875322-9355-46b4-a308-79b73fc7aadb",
   "metadata": {},
   "source": []
  }
 ],
 "metadata": {
  "kernelspec": {
   "display_name": "Bash",
   "language": "bash",
   "name": "bash_awiesm-docs"
  },
  "language_info": {
   "codemirror_mode": "shell",
   "file_extension": ".sh",
   "mimetype": "text/x-sh",
   "name": "bash"
  }
 },
 "nbformat": 4,
 "nbformat_minor": 5
}
