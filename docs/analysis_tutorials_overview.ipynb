{
 "cells": [
  {
   "cell_type": "markdown",
   "id": "d6219a02-3ab4-4256-a18c-ee14a3da0009",
   "metadata": {
    "kernel": "Bash"
   },
   "source": [
    "# Analysis and Visualization Tutorials\n",
    "```{article-info}\n",
    ":avatar: https://secure.gravatar.com/avatar/709ea66dc102e6bc4547032f85ff6c95 \n",
    ":avatar-link: mailto:paul.gierz@awi.de \n",
    ":avatar-outline: muted\n",
    ":author: Paul Gierz \n",
    ":date: November 2022\n",
    ":read-time: \"15 min read\"\n",
    ":class-container: sd-p-2 sd-outline-muted sd-rounded-1\n",
    "```\n",
    "\n",
    "Here there is a selection of several tutorials for analyzing your simulation.\n",
    "\n",
    "```{tableofcontents}\n",
    "```\n",
    "\n",
    "Each notebook contains at least a minimal interface you can adjust for your own\n",
    "simulation, as well as a jumping off point for further customization of a\n",
    "particular plot. In some cases, recommended background info is included as well\n",
    "as some explanations of how and why the plot commands are set up in this way. \n",
    "\n",
    "## Interactive Tutorials\n",
    "> **Summary**: Use the rocket icon if it's available to launch an interactive copy of a page.\n",
    "\n",
    "Some of the tutorials are directly interactive. \n",
    "\n",
    "You can click on the little rocket in the upper corner, and select \"Launch in\n",
    "Jupyterhub.\" This will open up an interactive copy of the analysis notebook\n",
    "running in the [Jupyterhub of AWI's HPC](http://paleosrv3.dmawi.de:9999) system\n",
    "(`ollie0` or `ollie1`). \n",
    "\n",
    "```{figure} interactive_screenshot.png \n",
    "---\n",
    "height: 300px\n",
    "name: directive-fig\n",
    "---\n",
    "Example of an interactive notebook.\n",
    "```\n",
    "\n",
    "```{figure} interactive_screenshot_with_rocket.png \n",
    "---\n",
    "height: 300px\n",
    "name: directive-fig\n",
    "---\n",
    "How to start an interactive notebook.\n",
    "```\n",
    "\n",
    "In fact, this notebook is interactive! You can use it to play around with `bash` from within the notebook, and the example provided will explain how to generate graphics from a collection of notebooks."
   ]
  },
  {
   "cell_type": "markdown",
   "id": "5e72b924-0c6b-4d92-9324-d64d69ea8a66",
   "metadata": {
    "kernel": "Bash"
   },
   "source": [
    "## Batch Processing of interactive notebooks\n",
    "\n",
    "> **Summary**: You can also batch process the interactive notebooks by passing in the common parameters needed (normally displayed in the very first few cells). This is accomplished with the [papermill](https://papermill.readthedocs.io/en/latest/) system.\n",
    "\n",
    "Batch processing of notebooks allows you to repeat certain analyses against a different experiment, a later time in the experiment, or with different plot setting. Here's a basic example of how this can be accomplished using [papermill](https://papermill.readthedocs.io/en/latest/). I'll motivate this by showing the \"non-batch\" case, and then showing how a batch processing method can speed things up for you.\n",
    "\n",
    "First, we want to see if we have git available, and which version we have, just as a sanity check. Regardless of if we are doing a batch approach or not, you'll use this step to get a collection of standard plotting notebooks:"
   ]
  },
  {
   "cell_type": "code",
   "execution_count": 1,
   "id": "61cdd5c5-5c3b-41cf-a1d2-c94200a9650a",
   "metadata": {
    "kernel": "bash_awiesm-docs"
   },
   "outputs": [
    {
     "name": "stdout",
     "output_type": "stream",
     "text": [
      "/usr/local/bin/git\n",
      "git version 2.39.0\n"
     ]
    }
   ],
   "source": [
    "which git\n",
    "git --version"
   ]
  },
  {
   "cell_type": "markdown",
   "id": "331c480f-8e23-45ae-be08-0c88f9ff1da6",
   "metadata": {
    "kernel": "Bash"
   },
   "source": [
    "Next, we will clone the collection of analysis and visualization notebooks. In my case, I will put these into the `/tmp` folder, but you can put them in a useful location, for example `/albedo/work/user/pgierz/viz_notebook_collection`. You can customize these notebooks however you want!\n",
    "\n",
    "````{margin}\n",
    "```{hint}\n",
    "If you just want to stick with the default set, you can find them pre-downloaded at `viz_notebook_collection` here: `/isibhv/projects/paleo_work/`. \n",
    "```\n",
    "````\n",
    "You can either enter these next commands into the terminal by hand, or, if you launched this notebook in the interactive mode as described above, you can just use <kbd>Shift ⇧</kbd> + <kbd>Enter ↩</kbd>"
   ]
  },
  {
   "cell_type": "code",
   "execution_count": 29,
   "id": "fdf8b3f6-5d7b-479d-8ba0-948a742566bb",
   "metadata": {
    "kernel": "bash_awiesm-docs"
   },
   "outputs": [
    {
     "name": "stdout",
     "output_type": "stream",
     "text": [
      "Cloning into './analysis_notebooks'...\n",
      "remote: Enumerating objects: 31, done.\u001b[K\n",
      "remote: Counting objects: 100% (31/31), done.\u001b[K\n",
      "remote: Compressing objects: 100% (11/11), done.\u001b[K\n",
      "remote: Total 31 (delta 17), reused 28 (delta 17), pack-reused 0\u001b[K\n",
      "Receiving objects: 100% (31/31), 12.17 MiB | 2.46 MiB/s, done.\n",
      "Resolving deltas: 100% (17/17), done.\n"
     ]
    }
   ],
   "source": [
    "DESTINATION=/tmp/analysis_notebooks # TODO: You should put a path here that you want to use to store notebook templates!\n",
    "if [ -d $DESTIONATION ]; then\n",
    "    # Remove old clone if it exists\n",
    "    rm -rf $DESTINATION\n",
    "fi\n",
    "git clone https://github.com/AWI-ESM/analysis_notebooks ${DESTINATION}"
   ]
  },
  {
   "cell_type": "markdown",
   "id": "855f24a0-dd5a-4d02-815a-315cf3888a96",
   "metadata": {
    "kernel": "SoS"
   },
   "source": [
    "Let's have a look at what we got:"
   ]
  },
  {
   "cell_type": "code",
   "execution_count": 30,
   "id": "f765b119-5ae7-43b7-b845-7911472cc3c8",
   "metadata": {
    "kernel": "bash_awiesm-docs"
   },
   "outputs": [
    {
     "name": "stdout",
     "output_type": "stream",
     "text": [
      "\u001b[34m \u001b[1mfesom\u001b[0m  \u001b[33m \u001b[1;4mREADME.md\u001b[0m\n"
     ]
    }
   ],
   "source": [
    "ls $DESTINATION"
   ]
  },
  {
   "cell_type": "code",
   "execution_count": 31,
   "id": "22e9c0c2-75f5-4455-b237-d18a204acac0",
   "metadata": {
    "kernel": "bash_awiesm-docs"
   },
   "outputs": [
    {
     "name": "stdout",
     "output_type": "stream",
     "text": [
      " fesom_amoc.ipynb              fesom_sea_ice_area_climmean.ipynb\n",
      " fesom_evap_climmean.ipynb     fesom_ssh_climmean.ipynb\n",
      " fesom_mesh_comparison.ipynb   fesom_sss_climmean.ipynb\n",
      " fesom_precip_climmean.ipynb   fesom_sst_climmean.ipynb\n",
      " fesom_runoff_climmean.ipynb   fesom_velocity_climmean.ipynb\n"
     ]
    }
   ],
   "source": [
    "ls $DESTINATION/fesom"
   ]
  },
  {
   "cell_type": "markdown",
   "id": "716d75d6-ea24-4574-8c65-73975d715629",
   "metadata": {
    "kernel": "SoS"
   },
   "source": [
    "A quick look into the fesom subfolder shows that we have a few notebooks already there for getting a feeling for the basic state of a simulation. You could now copy this notebook to your experiment, customize it, and use those as a jumping off point for a completely custom plot. If I wanted to do this for each notebook there, I would need to modify 10 different notebooks to my settings, each time open up Jupyterlab, and each time run through the notebook one entire time, making sure I have the right Jupyter kernel selected, and that I don't accidently have an old experiment path somewhere. Yuck! There needs to be a nicer way to run many of these notebooks at once. \n",
    "\n",
    "After all, sometimes you just want to get a quick overview using the defaults, or, after you've customized some notebooks, you want to run exactly the same set of notebooks against a different experiment. To solve this problem, we can turn to the [`papermill`](https://papermill.readthedocs.io/en/latest/). It does exactly what we need: allows you to modify certain parameters in a notebook from the outside, and automatically execute it for you. We can first check that it is installed:"
   ]
  },
  {
   "cell_type": "code",
   "execution_count": 32,
   "id": "18a55607-f735-4216-9901-daf73336793d",
   "metadata": {
    "kernel": "bash_awiesm-docs"
   },
   "outputs": [
    {
     "name": "stdout",
     "output_type": "stream",
     "text": [
      "/Users/pgierz/.local/bin/papermill\n",
      "/Users/pgierz/.local/bin/papermill\n"
     ]
    }
   ],
   "source": [
    "which -a papermill"
   ]
  },
  {
   "cell_type": "markdown",
   "id": "4aacc1a2-6230-4005-8c51-6f79f8091648",
   "metadata": {
    "kernel": "SoS"
   },
   "source": [
    "Since I'm writing this notebook on my laptop, it'll pop up in my Mac's `$HOME` directory. Until a module is available, you can install it by running `pip install --user papermill`.\n",
    "\n",
    ":::{admonition} {material-regular}`engineering;1.5rem;sd-mr-1` Currently Under Construction\n",
    ":class: no-icon\n",
    "`papermill` will be available as:\n",
    "```console\n",
    "$ module load papermill\n",
    "```\n",
    "in the future.\n",
    ":::"
   ]
  },
  {
   "cell_type": "markdown",
   "id": "e72eca87-979f-4ee5-93ac-cb669bab15f0",
   "metadata": {
    "kernel": "SoS"
   },
   "source": [
    "We can inspect the notebooks with papermill to see what parameters can be set. I'll do this for two of them:"
   ]
  },
  {
   "cell_type": "code",
   "execution_count": 33,
   "id": "5dd83764-cf61-4930-9b9c-398cf516de89",
   "metadata": {
    "kernel": "bash_awiesm-docs"
   },
   "outputs": [
    {
     "name": "stdout",
     "output_type": "stream",
     "text": [
      "Usage: papermill [OPTIONS] NOTEBOOK_PATH [OUTPUT_PATH]\n",
      "\n",
      "Parameters inferred for notebook './analysis_notebooks/fesom/fesom_amoc.ipynb':\n",
      "  experiment_path: Unknown type (default \"/some/path/to/experiment\")\n",
      "  newest_amoc_files: Unknown type (default 30)\n",
      "  add_contour_lines: Unknown type (default False)\n",
      "  add_contour_labels: Unknown type (default True)\n"
     ]
    }
   ],
   "source": [
    "papermill --help-notebook $DESTINATION/fesom/fesom_amoc.ipynb"
   ]
  },
  {
   "cell_type": "code",
   "execution_count": 34,
   "id": "dd314db3-e0f2-4e8e-8ef5-7ebf5ed5d482",
   "metadata": {
    "kernel": "bash_awiesm-docs"
   },
   "outputs": [
    {
     "name": "stdout",
     "output_type": "stream",
     "text": [
      "Usage: papermill [OPTIONS] NOTEBOOK_PATH [OUTPUT_PATH]\n",
      "\n",
      "Parameters inferred for notebook './analysis_notebooks/fesom/fesom_sst_climmean.ipynb':\n",
      "  experiment_path: Unknown type (default \"/work/ollie/gknorr/STAR1/pico-fesom/experiments/production/pm20\")\n",
      "  newest_files: Unknown type (default 30)\n"
     ]
    }
   ],
   "source": [
    "papermill --help-notebook $DESTINATION/fesom/fesom_sst_climmean.ipynb"
   ]
  },
  {
   "cell_type": "markdown",
   "id": "2f2565ea-d6fa-4b4d-ad50-052805590ad8",
   "metadata": {
    "kernel": "SoS"
   },
   "source": [
    "You can see that we get a usage statement for `papermill`, alsong with which parameters it thinks can be set. In the first case, we see that it accepts 4, namely `experiment_path`, `newest_amoc_files`, `add_contour_lines`, and `add_contour_labels`. The second notebook only knows about two parameters, `experiment_path` and `newest_files`.\n",
    "\n",
    "Let's now say you wanted run these two notebooks with your own choices for `experiment_path` and `newest_files`. I'll show you how to do this in a few different ways, and you can pick whatever feels easier for you."
   ]
  },
  {
   "cell_type": "markdown",
   "id": "96136f84-de0e-4e60-a4fc-80e829c171e6",
   "metadata": {
    "kernel": "SoS"
   },
   "source": [
    "### The Bash Way"
   ]
  },
  {
   "cell_type": "markdown",
   "id": "d5e98bcb-aff3-42ef-a25f-2afd9bc3ffec",
   "metadata": {
    "kernel": "SoS"
   },
   "source": [
    "First, we'll make a YAML file to hold our choices:\n",
    "\n",
    "```yaml\n",
    "# Batch Processing for AMOC and SST of my favorite run\n",
    "experiment_path: /isibhv/projects/paleo_work/example_runs/awiesm-2.1/pre-industrial\n",
    "newest_files: 10\n",
    "newest_amoc_files: 50\n",
    "```\n",
    "\n",
    "As you can see, we added settings from both `fesom_amoc.ipynb` as well as `fesom_sst_climmean.ipynb` into the same YAML file. You can make comments, but the actual parameters need to be on the uppermost level, and always have `key: value` settings. Open up your favorite editor and make a file for that, or just use `echo`:"
   ]
  },
  {
   "cell_type": "code",
   "execution_count": 17,
   "id": "cdcff11c-0ad4-4c56-ba8e-e6423fb5ccca",
   "metadata": {
    "kernel": "bash_awiesm-docs"
   },
   "outputs": [
    {
     "name": "stdout",
     "output_type": "stream",
     "text": [
      "work\n",
      "work/handbook_examples\n",
      "work/handbook_examples/batch_processing\n",
      "/Users/pgierz/Code/github.com/AWIESM/docs/docs/work/handbook_examples/batch_processing\n"
     ]
    }
   ],
   "source": [
    "mkdir -p work/handbook_examples/batch_processing\n",
    "cd work/handbook_examples/batch_processing\n",
    "echo \"# Batch Processing for AMOC and SST of My Favorite Run\" > pre-industrial-demo.papermill.yaml\n",
    "echo \"experiment_path: /isibhv/projects/paleo_work/example_runs/awiesm-2.1/pre-industrial\" >> pre-industrial-demo.papermill.yaml\n",
    "echo \"newest_files: 10\" >> pre-industrial-demo.papermill.yaml\n",
    "echo \"newest_amoc_files: 50\" >> pre-industrial-demo.papermill.yaml"
   ]
  },
  {
   "cell_type": "markdown",
   "id": "faf4c23d-ce6b-44b2-829b-06e3f7019c70",
   "metadata": {
    "kernel": "SoS"
   },
   "source": [
    "Now we can use a small loop to run `papermill` for all the notebooks we are interested in. Here's the first attempt, and it will also demostrate one of the things that can happen when this goes wrong:"
   ]
  },
  {
   "cell_type": "markdown",
   "id": "7d495639-5053-486d-86de-658e82e1a0ea",
   "metadata": {
    "kernel": "SoS"
   },
   "source": [
    "````{margin}\n",
    "```{note}\n",
    "In the loop body, we use the command `papermill` where the first argument is the template notebook, and the second argument is the output notebook. The `-f` flag has the path to our `yaml` file containing our parameter choices.\n",
    "```\n",
    "````"
   ]
  },
  {
   "cell_type": "code",
   "execution_count": 41,
   "id": "5ef84080-282a-49d4-b29f-95c504ece463",
   "metadata": {
    "kernel": "bash_awiesm-docs"
   },
   "outputs": [
    {
     "name": "stdout",
     "output_type": "stream",
     "text": [
      "Batch processing ./analysis_notebooks/fesom/fesom_amoc.ipynb\n",
      "Saving result to fesom_amoc_processed.ipynb\n",
      "Input Notebook:  ./analysis_notebooks/fesom/fesom_amoc.ipynb\n",
      "Output Notebook: fesom_amoc_processed.ipynb\n",
      "Black is not installed, parameters wont be formatted\n",
      "Executing:   0%|                                       | 0/20 [00:00<?, ?cell/s]Executing notebook with kernel: python3\n",
      "Executing:  20%|██████▏                        | 4/20 [00:01<00:05,  3.01cell/s]\n",
      "Traceback (most recent call last):\n",
      "  File \"/Users/pgierz/.local/bin/papermill\", line 8, in <module>\n",
      "    sys.exit(papermill())\n",
      "  File \"/Users/pgierz/.local/share/pipx/venvs/papermill/lib/python3.10/site-packages/click/core.py\", line 1130, in __call__\n",
      "    return self.main(*args, **kwargs)\n",
      "  File \"/Users/pgierz/.local/share/pipx/venvs/papermill/lib/python3.10/site-packages/click/core.py\", line 1055, in main\n",
      "    rv = self.invoke(ctx)\n",
      "  File \"/Users/pgierz/.local/share/pipx/venvs/papermill/lib/python3.10/site-packages/click/core.py\", line 1404, in invoke\n",
      "    return ctx.invoke(self.callback, **ctx.params)\n",
      "  File \"/Users/pgierz/.local/share/pipx/venvs/papermill/lib/python3.10/site-packages/click/core.py\", line 760, in invoke\n",
      "    return __callback(*args, **kwargs)\n",
      "  File \"/Users/pgierz/.local/share/pipx/venvs/papermill/lib/python3.10/site-packages/click/decorators.py\", line 26, in new_func\n",
      "    return f(get_current_context(), *args, **kwargs)\n",
      "  File \"/Users/pgierz/.local/share/pipx/venvs/papermill/lib/python3.10/site-packages/papermill/cli.py\", line 250, in papermill\n",
      "    execute_notebook(\n",
      "  File \"/Users/pgierz/.local/share/pipx/venvs/papermill/lib/python3.10/site-packages/papermill/execute.py\", line 128, in execute_notebook\n",
      "    raise_for_execution_errors(nb, output_path)\n",
      "  File \"/Users/pgierz/.local/share/pipx/venvs/papermill/lib/python3.10/site-packages/papermill/execute.py\", line 232, in raise_for_execution_errors\n",
      "    raise error\n",
      "papermill.exceptions.PapermillExecutionError: \n",
      "---------------------------------------------------------------------------\n",
      "Exception encountered at \"In [3]\":\n",
      "---------------------------------------------------------------------------\n",
      "ModuleNotFoundError                       Traceback (most recent call last)\n",
      "Cell In[3], line 1\n",
      "----> 1 import pyfesom2 as pf2\n",
      "      2 import f90nml\n",
      "      3 import xarray as xr\n",
      "\n",
      "ModuleNotFoundError: No module named 'pyfesom2'\n",
      "\n",
      "Batch processing ./analysis_notebooks/fesom/fesom_sst_climmean.ipynb\n",
      "Saving result to fesom_sst_climmean_processed.ipynb\n",
      "Input Notebook:  ./analysis_notebooks/fesom/fesom_sst_climmean.ipynb\n",
      "Output Notebook: fesom_sst_climmean_processed.ipynb\n",
      "Black is not installed, parameters wont be formatted\n",
      "Executing:   0%|                                       | 0/14 [00:00<?, ?cell/s]Executing notebook with kernel: python3\n",
      "Executing:  36%|███████████                    | 5/14 [00:01<00:02,  3.61cell/s]\n",
      "Traceback (most recent call last):\n",
      "  File \"/Users/pgierz/.local/bin/papermill\", line 8, in <module>\n",
      "    sys.exit(papermill())\n",
      "  File \"/Users/pgierz/.local/share/pipx/venvs/papermill/lib/python3.10/site-packages/click/core.py\", line 1130, in __call__\n",
      "    return self.main(*args, **kwargs)\n",
      "  File \"/Users/pgierz/.local/share/pipx/venvs/papermill/lib/python3.10/site-packages/click/core.py\", line 1055, in main\n",
      "    rv = self.invoke(ctx)\n",
      "  File \"/Users/pgierz/.local/share/pipx/venvs/papermill/lib/python3.10/site-packages/click/core.py\", line 1404, in invoke\n",
      "    return ctx.invoke(self.callback, **ctx.params)\n",
      "  File \"/Users/pgierz/.local/share/pipx/venvs/papermill/lib/python3.10/site-packages/click/core.py\", line 760, in invoke\n",
      "    return __callback(*args, **kwargs)\n",
      "  File \"/Users/pgierz/.local/share/pipx/venvs/papermill/lib/python3.10/site-packages/click/decorators.py\", line 26, in new_func\n",
      "    return f(get_current_context(), *args, **kwargs)\n",
      "  File \"/Users/pgierz/.local/share/pipx/venvs/papermill/lib/python3.10/site-packages/papermill/cli.py\", line 250, in papermill\n",
      "    execute_notebook(\n",
      "  File \"/Users/pgierz/.local/share/pipx/venvs/papermill/lib/python3.10/site-packages/papermill/execute.py\", line 128, in execute_notebook\n",
      "    raise_for_execution_errors(nb, output_path)\n",
      "  File \"/Users/pgierz/.local/share/pipx/venvs/papermill/lib/python3.10/site-packages/papermill/execute.py\", line 232, in raise_for_execution_errors\n",
      "    raise error\n",
      "papermill.exceptions.PapermillExecutionError: \n",
      "---------------------------------------------------------------------------\n",
      "Exception encountered at \"In [4]\":\n",
      "---------------------------------------------------------------------------\n",
      "ModuleNotFoundError                       Traceback (most recent call last)\n",
      "Cell In[4], line 1\n",
      "----> 1 import pyfesom2 as pf2\n",
      "      2 import bokeh\n",
      "      3 import cartopy.crs as ccrs\n",
      "\n",
      "ModuleNotFoundError: No module named 'pyfesom2'\n",
      "\n"
     ]
    },
    {
     "ename": "",
     "evalue": "1",
     "output_type": "error",
     "traceback": []
    }
   ],
   "source": [
    "for notebook in $DESTINATION/fesom/fesom_amoc.ipynb $DESTINATION/fesom/fesom_sst_climmean.ipynb; do\n",
    "    echo \"Batch processing $notebook\"\n",
    "    notebook_name=$(basename $notebook)\n",
    "    result_name=${notebook_name%.*}_processed.ipynb\n",
    "    echo \"Saving result to $result_name\"\n",
    "    papermill $notebook $result_name -f pre-industrial-demo.papermill.yaml\n",
    "done"
   ]
  },
  {
   "cell_type": "markdown",
   "id": "9a970268-2f7f-4fb3-b82f-4452218e7540",
   "metadata": {
    "kernel": "SoS"
   },
   "source": [
    "You'll see that both notebooks failed to execute, because the pyfesom2 module was not installed. This is because by default, `papermill` will use the default `Python3` kernel that it finds. You can customize this by tweaking the command slightly. On my laptop, I have a conda environment named `main-toolbox` where all of my plotting tools are in, so I specify to use that one:"
   ]
  },
  {
   "cell_type": "markdown",
   "id": "8fc25b5c-6d7e-413b-bdaf-2f967e87f397",
   "metadata": {
    "kernel": "SoS"
   },
   "source": [
    "````{margin}\n",
    "```{note}\n",
    "Here, we add the `--kernel <NAME>` flag. `<NAME>` is replaced by the kernel name you want to use.\n",
    "```\n",
    "````"
   ]
  },
  {
   "cell_type": "code",
   "execution_count": 44,
   "id": "6b2a5a03-5b96-4e3e-b93c-57aec233bb30",
   "metadata": {
    "kernel": "bash_awiesm-docs"
   },
   "outputs": [
    {
     "name": "stdout",
     "output_type": "stream",
     "text": [
      "Batch processing ./analysis_notebooks/fesom/fesom_amoc.ipynb\n",
      "Saving result to fesom_amoc_processed.ipynb\n",
      "Input Notebook:  ./analysis_notebooks/fesom/fesom_amoc.ipynb\n",
      "Output Notebook: fesom_amoc_processed.ipynb\n",
      "Black is not installed, parameters wont be formatted\n",
      "Executing:   0%|                                       | 0/20 [00:00<?, ?cell/s]Executing notebook with kernel: main-toolbox\n",
      "Executing:  25%|███████▊                       | 5/20 [00:06<00:19,  1.29s/cell]\n",
      "Traceback (most recent call last):\n",
      "  File \"/Users/pgierz/.local/bin/papermill\", line 8, in <module>\n",
      "    sys.exit(papermill())\n",
      "  File \"/Users/pgierz/.local/share/pipx/venvs/papermill/lib/python3.10/site-packages/click/core.py\", line 1130, in __call__\n",
      "    return self.main(*args, **kwargs)\n",
      "  File \"/Users/pgierz/.local/share/pipx/venvs/papermill/lib/python3.10/site-packages/click/core.py\", line 1055, in main\n",
      "    rv = self.invoke(ctx)\n",
      "  File \"/Users/pgierz/.local/share/pipx/venvs/papermill/lib/python3.10/site-packages/click/core.py\", line 1404, in invoke\n",
      "    return ctx.invoke(self.callback, **ctx.params)\n",
      "  File \"/Users/pgierz/.local/share/pipx/venvs/papermill/lib/python3.10/site-packages/click/core.py\", line 760, in invoke\n",
      "    return __callback(*args, **kwargs)\n",
      "  File \"/Users/pgierz/.local/share/pipx/venvs/papermill/lib/python3.10/site-packages/click/decorators.py\", line 26, in new_func\n",
      "    return f(get_current_context(), *args, **kwargs)\n",
      "  File \"/Users/pgierz/.local/share/pipx/venvs/papermill/lib/python3.10/site-packages/papermill/cli.py\", line 250, in papermill\n",
      "    execute_notebook(\n",
      "  File \"/Users/pgierz/.local/share/pipx/venvs/papermill/lib/python3.10/site-packages/papermill/execute.py\", line 128, in execute_notebook\n",
      "    raise_for_execution_errors(nb, output_path)\n",
      "  File \"/Users/pgierz/.local/share/pipx/venvs/papermill/lib/python3.10/site-packages/papermill/execute.py\", line 232, in raise_for_execution_errors\n",
      "    raise error\n",
      "papermill.exceptions.PapermillExecutionError: \n",
      "---------------------------------------------------------------------------\n",
      "Exception encountered at \"In [4]\":\n",
      "---------------------------------------------------------------------------\n",
      "FileNotFoundError                         Traceback (most recent call last)\n",
      "Cell In[4], line 1\n",
      "----> 1 namelist_config = f90nml.read(f\"{experiment_path}/config/fesom/namelist.config\")\n",
      "\n",
      "File /usr/local/Caskroom/mambaforge/base/envs/main-toolbox/lib/python3.10/site-packages/f90nml/__init__.py:31, in read(nml_path)\n",
      "     13 \"\"\"Parse a Fortran namelist file and return its contents.\n",
      "     14 \n",
      "     15 File object usage:\n",
      "   (...)\n",
      "     28 >>> nml = parser.read(nml_file)\n",
      "     29 \"\"\"\n",
      "     30 parser = Parser()\n",
      "---> 31 return parser.read(nml_path)\n",
      "\n",
      "File /usr/local/Caskroom/mambaforge/base/envs/main-toolbox/lib/python3.10/site-packages/f90nml/parser.py:279, in Parser.read(self, nml_fname, nml_patch_in, patch_fname)\n",
      "    276     nml_patch = Namelist()\n",
      "    278 try:\n",
      "--> 279     nml_file = open(nml_fname, 'r') if nml_is_path else nml_fname\n",
      "    280     try:\n",
      "    281         return self._readstream(nml_file, nml_patch)\n",
      "\n",
      "FileNotFoundError: [Errno 2] No such file or directory: '/isibhv/projects/paleo_work/example_runs/awiesm-2.1/pre-industrial/config/fesom/namelist.config'\n",
      "\n",
      "Batch processing ./analysis_notebooks/fesom/fesom_sst_climmean.ipynb\n",
      "Saving result to fesom_sst_climmean_processed.ipynb\n",
      "Input Notebook:  ./analysis_notebooks/fesom/fesom_sst_climmean.ipynb\n",
      "Output Notebook: fesom_sst_climmean_processed.ipynb\n",
      "Black is not installed, parameters wont be formatted\n",
      "Executing:   0%|                                       | 0/14 [00:00<?, ?cell/s]Executing notebook with kernel: main-toolbox\n",
      "Executing:  43%|█████████████▎                 | 6/14 [00:08<00:11,  1.48s/cell]\n",
      "Traceback (most recent call last):\n",
      "  File \"/Users/pgierz/.local/bin/papermill\", line 8, in <module>\n",
      "    sys.exit(papermill())\n",
      "  File \"/Users/pgierz/.local/share/pipx/venvs/papermill/lib/python3.10/site-packages/click/core.py\", line 1130, in __call__\n",
      "    return self.main(*args, **kwargs)\n",
      "  File \"/Users/pgierz/.local/share/pipx/venvs/papermill/lib/python3.10/site-packages/click/core.py\", line 1055, in main\n",
      "    rv = self.invoke(ctx)\n",
      "  File \"/Users/pgierz/.local/share/pipx/venvs/papermill/lib/python3.10/site-packages/click/core.py\", line 1404, in invoke\n",
      "    return ctx.invoke(self.callback, **ctx.params)\n",
      "  File \"/Users/pgierz/.local/share/pipx/venvs/papermill/lib/python3.10/site-packages/click/core.py\", line 760, in invoke\n",
      "    return __callback(*args, **kwargs)\n",
      "  File \"/Users/pgierz/.local/share/pipx/venvs/papermill/lib/python3.10/site-packages/click/decorators.py\", line 26, in new_func\n",
      "    return f(get_current_context(), *args, **kwargs)\n",
      "  File \"/Users/pgierz/.local/share/pipx/venvs/papermill/lib/python3.10/site-packages/papermill/cli.py\", line 250, in papermill\n",
      "    execute_notebook(\n",
      "  File \"/Users/pgierz/.local/share/pipx/venvs/papermill/lib/python3.10/site-packages/papermill/execute.py\", line 128, in execute_notebook\n",
      "    raise_for_execution_errors(nb, output_path)\n",
      "  File \"/Users/pgierz/.local/share/pipx/venvs/papermill/lib/python3.10/site-packages/papermill/execute.py\", line 232, in raise_for_execution_errors\n",
      "    raise error\n",
      "papermill.exceptions.PapermillExecutionError: \n",
      "---------------------------------------------------------------------------\n",
      "Exception encountered at \"In [5]\":\n",
      "---------------------------------------------------------------------------\n",
      "FileNotFoundError                         Traceback (most recent call last)\n",
      "Cell In[5], line 1\n",
      "----> 1 namelist_config = f90nml.read(f\"{experiment_path}/config/fesom/namelist.config\")\n",
      "      2 if namelist_config['geometry']['force_rotation']:\n",
      "      3     abg = [0, 0, 0,]\n",
      "\n",
      "File /usr/local/Caskroom/mambaforge/base/envs/main-toolbox/lib/python3.10/site-packages/f90nml/__init__.py:31, in read(nml_path)\n",
      "     13 \"\"\"Parse a Fortran namelist file and return its contents.\n",
      "     14 \n",
      "     15 File object usage:\n",
      "   (...)\n",
      "     28 >>> nml = parser.read(nml_file)\n",
      "     29 \"\"\"\n",
      "     30 parser = Parser()\n",
      "---> 31 return parser.read(nml_path)\n",
      "\n",
      "File /usr/local/Caskroom/mambaforge/base/envs/main-toolbox/lib/python3.10/site-packages/f90nml/parser.py:279, in Parser.read(self, nml_fname, nml_patch_in, patch_fname)\n",
      "    276     nml_patch = Namelist()\n",
      "    278 try:\n",
      "--> 279     nml_file = open(nml_fname, 'r') if nml_is_path else nml_fname\n",
      "    280     try:\n",
      "    281         return self._readstream(nml_file, nml_patch)\n",
      "\n",
      "FileNotFoundError: [Errno 2] No such file or directory: '/isibhv/projects/paleo_work/example_runs/awiesm-2.1/pre-industrial/config/fesom/namelist.config'\n",
      "\n"
     ]
    },
    {
     "ename": "",
     "evalue": "1",
     "output_type": "error",
     "traceback": []
    }
   ],
   "source": [
    "for notebook in $DESTINATION/fesom/fesom_amoc.ipynb $DESTINATION/fesom/fesom_sst_climmean.ipynb; do\n",
    "    echo \"Batch processing $notebook\"\n",
    "    notebook_name=$(basename $notebook)\n",
    "    result_name=${notebook_name%.*}_processed.ipynb\n",
    "    echo \"Saving result to $result_name\"\n",
    "    papermill $notebook $result_name -f pre-industrial-demo.papermill.yaml --kernel main-toolbox\n",
    "done"
   ]
  },
  {
   "cell_type": "markdown",
   "id": "1ca79c8d-af89-4c0c-a511-3c8bf14f07ee",
   "metadata": {
    "kernel": "SoS"
   },
   "source": [
    "```{hint}\n",
    "On several of the HPC systems, a shared kernel may be available! Ask your admins!\n",
    "```"
   ]
  },
  {
   "cell_type": "markdown",
   "id": "5b960ea3-ace8-48b1-a7b7-6b16b29989d6",
   "metadata": {
    "kernel": "SoS"
   },
   "source": [
    "### The Python Way"
   ]
  },
  {
   "cell_type": "code",
   "execution_count": 3,
   "id": "5d50ed37-24a4-4e56-bdc9-5cca60b174c7",
   "metadata": {
    "kernel": "main-toolbox"
   },
   "outputs": [],
   "source": [
    "import papermill as pm"
   ]
  },
  {
   "cell_type": "code",
   "execution_count": 4,
   "id": "1c0c986a-d47e-4fe4-8aff-97a66b07e2f5",
   "metadata": {
    "kernel": "main-toolbox"
   },
   "outputs": [
    {
     "data": {
      "text/plain": [
       "{'experiment_path': {'name': 'experiment_path',\n",
       "  'inferred_type_name': 'None',\n",
       "  'default': '\"/some/path/to/experiment\"',\n",
       "  'help': ''},\n",
       " 'newest_amoc_files': {'name': 'newest_amoc_files',\n",
       "  'inferred_type_name': 'None',\n",
       "  'default': '30',\n",
       "  'help': ''},\n",
       " 'add_contour_lines': {'name': 'add_contour_lines',\n",
       "  'inferred_type_name': 'None',\n",
       "  'default': 'False',\n",
       "  'help': ''},\n",
       " 'add_contour_labels': {'name': 'add_contour_labels',\n",
       "  'inferred_type_name': 'None',\n",
       "  'default': 'True',\n",
       "  'help': ''}}"
      ]
     },
     "execution_count": 4,
     "metadata": {},
     "output_type": "execute_result"
    }
   ],
   "source": [
    "pm.inspect_notebook(\"/tmp/analysis_notebooks/fesom/fesom_amoc.ipynb\")"
   ]
  },
  {
   "cell_type": "code",
   "execution_count": null,
   "id": "577e759c-f5b6-4322-87e9-420d43d9c2e8",
   "metadata": {
    "kernel": "SoS"
   },
   "outputs": [],
   "source": []
  },
  {
   "cell_type": "markdown",
   "id": "6acd0bcc-4271-4870-989e-f8131d5b3e73",
   "metadata": {
    "kernel": "SoS"
   },
   "source": [
    "### The ESM-Tools Way\n",
    "\n",
    ":::{admonition} {material-regular}`engineering;1.5rem;sd-mr-1` Currently Under Construction\n",
    ":class: no-icon\n",
    "In the near future, you will be able to embed this into your runscript and use:\n",
    "```console\n",
    "$ esm_runscripts <RUNSCRIPT>.yaml -t viz\n",
    "```\n",
    "to get a default collection.\n",
    ":::"
   ]
  },
  {
   "cell_type": "code",
   "execution_count": null,
   "id": "6a28ced5-bf1f-4d9d-bf59-6f52a2e7c36d",
   "metadata": {
    "kernel": "SoS"
   },
   "outputs": [],
   "source": []
  },
  {
   "cell_type": "code",
   "execution_count": null,
   "id": "c7482ee4-fe66-44d4-a8d8-99085a0cb5f2",
   "metadata": {
    "kernel": "SoS"
   },
   "outputs": [],
   "source": []
  }
 ],
 "metadata": {
  "kernelspec": {
   "display_name": "Bash",
   "language": "bash",
   "name": "bash_awiesm-docs"
  },
  "language_info": {
   "codemirror_mode": "shell",
   "file_extension": ".sh",
   "mimetype": "text/x-sh",
   "name": "bash"
  },
  "sos": {
   "kernels": [
    [
     "SoS",
     "sos",
     "",
     "",
     "sos"
    ],
    [
     "bash_awiesm-docs",
     "bash_awiesm-docs",
     "Bash",
     "#E6EEFF",
     "shell"
    ],
    [
     "main-toolbox",
     "main-toolbox",
     "Python3",
     "#FFD91A",
     ""
    ]
   ],
   "panel": {
    "displayed": true,
    "height": 0
   },
   "version": "0.23.4"
  }
 },
 "nbformat": 4,
 "nbformat_minor": 5
}
