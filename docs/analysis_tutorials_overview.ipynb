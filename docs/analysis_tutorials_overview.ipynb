{
 "cells": [
  {
   "cell_type": "markdown",
   "id": "d6219a02-3ab4-4256-a18c-ee14a3da0009",
   "metadata": {},
   "source": [
    "# Analysis and Visualization Tutorials\n",
    "```{article-info}\n",
    ":avatar: https://secure.gravatar.com/avatar/709ea66dc102e6bc4547032f85ff6c95 \n",
    ":avatar-link: mailto:paul.gierz@awi.de \n",
    ":avatar-outline: muted\n",
    ":author: Paul Gierz \n",
    ":date: November 2022\n",
    ":read-time: \"2 min read\"\n",
    ":class-container: sd-p-2 sd-outline-muted sd-rounded-1\n",
    "```\n",
    "\n",
    "Here there is a selection of several tutorials for analyzing your simulation.\n",
    "\n",
    "```{tableofcontents}\n",
    "```\n",
    "\n",
    "## Interactive Tutorials\n",
    "Some of the tutorials are directly interactive. \n",
    "\n",
    "You can click on the little rocket in the upper corner, and select \"Launch in\n",
    "Jupyterhub.\" This will open up an interactive copy of the analysis notebook\n",
    "running in the [Jupyterhub of AWI's HPC](http://paleosrv3.dmawi.de:9999) system\n",
    "(`ollie0` or `ollie1`). \n",
    "\n",
    "```{figure} interactive_screenshot.png \n",
    "---\n",
    "height: 300px\n",
    "name: directive-fig\n",
    "---\n",
    "Example of an interactive notebook.\n",
    "```\n",
    "\n",
    "```{figure} interactive_screenshot_with_rocket.png \n",
    "---\n",
    "height: 300px\n",
    "name: directive-fig\n",
    "---\n",
    "How to start an interactive notebook.\n",
    "```"
   ]
  },
  {
   "cell_type": "markdown",
   "id": "5e72b924-0c6b-4d92-9324-d64d69ea8a66",
   "metadata": {},
   "source": [
    "## Batch Processing of interactive notebooks\n",
    "\n",
    "You can also batch process the interactive notebooks by passing in the common parameters needed (normally displayed in the very first few cells). This is accomplished with the [papermill](https://papermill.readthedocs.io/en/latest/) system. Here's a basic example of how this can be accomplished:"
   ]
  },
  {
   "cell_type": "code",
   "execution_count": 1,
   "id": "61cdd5c5-5c3b-41cf-a1d2-c94200a9650a",
   "metadata": {},
   "outputs": [
    {
     "name": "stdout",
     "output_type": "stream",
     "text": [
      "\u001b[?2004l\n",
      "/usr/local/bin/git\n",
      "\u001b[?2004h"
     ]
    },
    {
     "ename": "",
     "evalue": "1",
     "output_type": "error",
     "traceback": []
    }
   ],
   "source": [
    "which git"
   ]
  },
  {
   "cell_type": "code",
   "execution_count": 2,
   "id": "fdf8b3f6-5d7b-479d-8ba0-948a742566bb",
   "metadata": {},
   "outputs": [
    {
     "name": "stdout",
     "output_type": "stream",
     "text": [
      "\u001b[?2004l\n",
      "Cloning into 'analysis_notebooks'...\n",
      "remote: Repository not found.\n",
      "fatal: repository 'https://github.com/AWI-CM3/analysis_notebooks/' not found\n",
      "\u001b[?2004h"
     ]
    },
    {
     "ename": "",
     "evalue": "1",
     "output_type": "error",
     "traceback": []
    }
   ],
   "source": [
    "git clone https://github.com/AWI-CM3/analysis_notebooks"
   ]
  },
  {
   "cell_type": "code",
   "execution_count": null,
   "id": "35f51c9d-be79-4840-bd37-cd5ab916b87a",
   "metadata": {},
   "outputs": [],
   "source": []
  }
 ],
 "metadata": {
  "kernelspec": {
   "display_name": "Bash",
   "language": "bash",
   "name": "bash"
  },
  "language_info": {
   "codemirror_mode": "shell",
   "file_extension": ".sh",
   "mimetype": "text/x-sh",
   "name": "bash"
  }
 },
 "nbformat": 4,
 "nbformat_minor": 5
}
